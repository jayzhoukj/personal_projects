{
 "cells": [
  {
   "cell_type": "code",
   "execution_count": 30,
   "metadata": {
    "ExecuteTime": {
     "end_time": "2020-12-05T00:16:50.741902Z",
     "start_time": "2020-12-05T00:16:09.484377Z"
    },
    "scrolled": true
   },
   "outputs": [
    {
     "name": "stdout",
     "output_type": "stream",
     "text": [
      "YouTube URL: https://www.youtube.com/watch?v=r7oQcNuTRY4\n",
      "File Name: 李荣浩 - 爱,很简单\n",
      "[youtube] r7oQcNuTRY4: Downloading webpage\n",
      "[download] Destination: 【纯享】《爱，很简单》李荣浩《美好的时光》 Wonderful Time _浙江卫视官方HD-r7oQcNuTRY4.webm\n",
      "[download] 100% of 5.01MiB in 00:00                   \n",
      "[ffmpeg] Destination: 【纯享】《爱，很简单》李荣浩《美好的时光》 Wonderful Time _浙江卫视官方HD-r7oQcNuTRY4.mp3\n",
      "Deleting original file 【纯享】《爱，很简单》李荣浩《美好的时光》 Wonderful Time _浙江卫视官方HD-r7oQcNuTRY4.webm (pass -k to keep)\n"
     ]
    }
   ],
   "source": [
    "from __future__ import unicode_literals\n",
    "import os\n",
    "import ffmpeg\n",
    "import youtube_dl\n",
    "\n",
    "ydl_opts = {\n",
    "    'format': 'bestaudio/best',\n",
    "    'postprocessors': [{\n",
    "        'key': 'FFmpegExtractAudio',\n",
    "        'preferredcodec': 'mp3',\n",
    "        'preferredquality': '320',\n",
    "    }],\n",
    "}\n",
    "\n",
    "url_input = input('YouTube URL: ')\n",
    "file_name = input('File Name: ')\n",
    "\n",
    "with youtube_dl.YoutubeDL(ydl_opts) as ydl:\n",
    "    ydl.download([url_input])\n",
    "\n",
    "downloaded_name = [name for name in os.listdir() if name.endswith('.mp3')][0]\n",
    "\n",
    "src = os.path.join(os.getcwd(), downloaded_name)\n",
    "dest = os.path.join(os.getcwd(), file_name) + '.mp3'\n",
    "\n",
    "os.rename(src, dest)"
   ]
  },
  {
   "cell_type": "code",
   "execution_count": 31,
   "metadata": {
    "ExecuteTime": {
     "end_time": "2020-12-05T00:17:13.093816Z",
     "start_time": "2020-12-05T00:17:13.074865Z"
    }
   },
   "outputs": [
    {
     "data": {
      "text/plain": [
       "'C:\\\\Users\\\\Kai Jing\\\\Documents\\\\GitHub\\\\personal_projects\\\\Online MP3 Downloader\\\\李荣浩 - 爱,很简单.mp3'"
      ]
     },
     "execution_count": 31,
     "metadata": {},
     "output_type": "execute_result"
    }
   ],
   "source": [
    "dest"
   ]
  }
 ],
 "metadata": {
  "kernelspec": {
   "display_name": "Python 3",
   "language": "python",
   "name": "python3"
  },
  "language_info": {
   "codemirror_mode": {
    "name": "ipython",
    "version": 3
   },
   "file_extension": ".py",
   "mimetype": "text/x-python",
   "name": "python",
   "nbconvert_exporter": "python",
   "pygments_lexer": "ipython3",
   "version": "3.7.6"
  },
  "toc": {
   "base_numbering": 1,
   "nav_menu": {},
   "number_sections": true,
   "sideBar": true,
   "skip_h1_title": false,
   "title_cell": "Table of Contents",
   "title_sidebar": "Contents",
   "toc_cell": false,
   "toc_position": {},
   "toc_section_display": true,
   "toc_window_display": false
  }
 },
 "nbformat": 4,
 "nbformat_minor": 4
}
