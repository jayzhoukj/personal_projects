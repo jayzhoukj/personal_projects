{
 "cells": [
  {
   "cell_type": "code",
   "execution_count": 22,
   "metadata": {
    "ExecuteTime": {
     "end_time": "2020-12-05T00:09:47.124307Z",
     "start_time": "2020-12-05T00:09:34.004402Z"
    },
    "scrolled": true
   },
   "outputs": [
    {
     "name": "stdout",
     "output_type": "stream",
     "text": [
      "[youtube] r7oQcNuTRY4: Downloading webpage\n",
      "[download] Destination: 【纯享】《爱，很简单》李荣浩《美好的时光》 Wonderful Time _浙江卫视官方HD-r7oQcNuTRY4.webm\n",
      "[download] 100% of 5.01MiB in 00:00                  \n",
      "[ffmpeg] Destination: 【纯享】《爱，很简单》李荣浩《美好的时光》 Wonderful Time _浙江卫视官方HD-r7oQcNuTRY4.mp3\n",
      "Deleting original file 【纯享】《爱，很简单》李荣浩《美好的时光》 Wonderful Time _浙江卫视官方HD-r7oQcNuTRY4.webm (pass -k to keep)\n"
     ]
    }
   ],
   "source": [
    "from __future__ import unicode_literals\n",
    "import os\n",
    "import ffmpeg\n",
    "import youtube_dl\n",
    "\n",
    "ydl_opts = {\n",
    "    'format': 'bestaudio/best',\n",
    "    'postprocessors': [{\n",
    "        'key': 'FFmpegExtractAudio',\n",
    "        'preferredcodec': 'mp3',\n",
    "        'preferredquality': '320',\n",
    "    }],\n",
    "}\n",
    "\n",
    "url_input = input('YouTube URL: ')\n",
    "file_name = input('File Name: ')\n",
    "\n",
    "with youtube_dl.YoutubeDL(ydl_opts) as ydl:\n",
    "    ydl.download([url_input])\n",
    "\n",
    "downloaded_name = [name for name in os.listdir() if name.endswith('.mp3')][0]\n"
   ]
  },
  {
   "cell_type": "code",
   "execution_count": 27,
   "metadata": {
    "ExecuteTime": {
     "end_time": "2020-12-05T00:11:00.894022Z",
     "start_time": "2020-12-05T00:11:00.867095Z"
    }
   },
   "outputs": [
    {
     "data": {
      "text/plain": [
       "'【纯享】《爱，很简单》李荣浩《美好的时光》 Wonderful Time _浙江卫视官方HD-r7oQcNuTRY4.mp3'"
      ]
     },
     "execution_count": 27,
     "metadata": {},
     "output_type": "execute_result"
    }
   ],
   "source": [
    "[name for name in os.listdir() if name.endswith('.mp3')][0]"
   ]
  }
 ],
 "metadata": {
  "kernelspec": {
   "display_name": "Python 3",
   "language": "python",
   "name": "python3"
  },
  "language_info": {
   "codemirror_mode": {
    "name": "ipython",
    "version": 3
   },
   "file_extension": ".py",
   "mimetype": "text/x-python",
   "name": "python",
   "nbconvert_exporter": "python",
   "pygments_lexer": "ipython3",
   "version": "3.7.6"
  },
  "toc": {
   "base_numbering": 1,
   "nav_menu": {},
   "number_sections": true,
   "sideBar": true,
   "skip_h1_title": false,
   "title_cell": "Table of Contents",
   "title_sidebar": "Contents",
   "toc_cell": false,
   "toc_position": {},
   "toc_section_display": true,
   "toc_window_display": false
  }
 },
 "nbformat": 4,
 "nbformat_minor": 4
}
