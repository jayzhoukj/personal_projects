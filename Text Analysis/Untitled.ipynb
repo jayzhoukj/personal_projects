{
 "cells": [
  {
   "cell_type": "code",
   "execution_count": 34,
   "metadata": {
    "ExecuteTime": {
     "end_time": "2020-09-17T12:53:36.392184Z",
     "start_time": "2020-09-17T12:51:30.163518Z"
    }
   },
   "outputs": [
    {
     "name": "stdout",
     "output_type": "stream",
     "text": [
      "As the title card fades, the scene opens onto a shot of an icy sea before panning slowly to the left, revealing more towering icebergs drifting in the water as the shot rotates, moving over a large snow-covered area where the untouched blanket of snow is broken by two tracks of footsteps. The shot fades to another shot of the sea and of icebergs in blue water contrasted by the paleness of the sky beyond. As the shot once again pans to the left and rotates likewise, a small canoe comes into view, its motion through the water indicated by the wake left behind it. The shot zooms slightly on the canoe before cutting down to it, providing a side angle of the canoe and of the walls of ice rising on either side of the vessel. Two people, a boy and a girl, are sitting in the boat; the boy holds a spear at the ready, while the girl simply stares into the water on the other side of the boat. The shot cuts to an overhead view, revealing that a fish is swimming close to the surface right in front of the boy, who is focused on it, following its every movement. Cut to a frontal view of him.\n"
     ]
    },
    {
     "ename": "TimeoutException",
     "evalue": "Message: \n",
     "output_type": "error",
     "traceback": [
      "\u001b[1;31m---------------------------------------------------------------------------\u001b[0m",
      "\u001b[1;31mTimeoutException\u001b[0m                          Traceback (most recent call last)",
      "\u001b[1;32m<ipython-input-34-7f9b1124cb3d>\u001b[0m in \u001b[0;36m<module>\u001b[1;34m\u001b[0m\n\u001b[0;32m     75\u001b[0m     \u001b[1;32mfor\u001b[0m \u001b[0mj\u001b[0m \u001b[1;32min\u001b[0m \u001b[1;33m[\u001b[0m\u001b[1;36m1\u001b[0m\u001b[1;33m,\u001b[0m \u001b[1;36m2\u001b[0m\u001b[1;33m]\u001b[0m\u001b[1;33m:\u001b[0m\u001b[1;33m\u001b[0m\u001b[1;33m\u001b[0m\u001b[0m\n\u001b[0;32m     76\u001b[0m         \u001b[1;32mfor\u001b[0m \u001b[0mk\u001b[0m \u001b[1;32min\u001b[0m \u001b[0mrange\u001b[0m\u001b[1;33m(\u001b[0m\u001b[1;36m1\u001b[0m\u001b[1;33m,\u001b[0m \u001b[1;36m11\u001b[0m\u001b[1;33m)\u001b[0m\u001b[1;33m:\u001b[0m\u001b[1;33m\u001b[0m\u001b[1;33m\u001b[0m\u001b[0m\n\u001b[1;32m---> 77\u001b[1;33m             \u001b[0meps_title\u001b[0m\u001b[1;33m,\u001b[0m \u001b[0meps_link\u001b[0m \u001b[1;33m=\u001b[0m \u001b[0mget_link\u001b[0m\u001b[1;33m(\u001b[0m\u001b[0mi\u001b[0m\u001b[1;33m,\u001b[0m \u001b[0mj\u001b[0m\u001b[1;33m,\u001b[0m \u001b[0mk\u001b[0m\u001b[1;33m)\u001b[0m\u001b[1;33m\u001b[0m\u001b[1;33m\u001b[0m\u001b[0m\n\u001b[0m\u001b[0;32m     78\u001b[0m \u001b[1;33m\u001b[0m\u001b[0m\n\u001b[0;32m     79\u001b[0m             \u001b[1;32mif\u001b[0m \u001b[0meps_link\u001b[0m \u001b[1;32min\u001b[0m \u001b[0mvisited_urls\u001b[0m\u001b[1;33m:\u001b[0m\u001b[1;33m\u001b[0m\u001b[1;33m\u001b[0m\u001b[0m\n",
      "\u001b[1;32m<ipython-input-34-7f9b1124cb3d>\u001b[0m in \u001b[0;36mget_link\u001b[1;34m(i, j, k)\u001b[0m\n\u001b[0;32m     22\u001b[0m \u001b[1;32mdef\u001b[0m \u001b[0mget_link\u001b[0m\u001b[1;33m(\u001b[0m\u001b[0mi\u001b[0m\u001b[1;33m,\u001b[0m \u001b[0mj\u001b[0m\u001b[1;33m,\u001b[0m \u001b[0mk\u001b[0m\u001b[1;33m)\u001b[0m\u001b[1;33m:\u001b[0m\u001b[1;33m\u001b[0m\u001b[1;33m\u001b[0m\u001b[0m\n\u001b[0;32m     23\u001b[0m     \u001b[0mxpath\u001b[0m \u001b[1;33m=\u001b[0m \u001b[1;34m'//*[@id=\"mw-content-text\"]/table/tbody/tr/td/table['\u001b[0m \u001b[1;33m+\u001b[0m \u001b[0mstr\u001b[0m\u001b[1;33m(\u001b[0m\u001b[0mi\u001b[0m\u001b[1;33m)\u001b[0m \u001b[1;33m+\u001b[0m \u001b[1;34m']/tbody/tr/td['\u001b[0m \u001b[1;33m+\u001b[0m \u001b[0mstr\u001b[0m\u001b[1;33m(\u001b[0m\u001b[0mj\u001b[0m\u001b[1;33m)\u001b[0m \u001b[1;33m+\u001b[0m \u001b[1;34m']/table/tbody/tr['\u001b[0m \u001b[1;33m+\u001b[0m \u001b[0mstr\u001b[0m\u001b[1;33m(\u001b[0m\u001b[0mk\u001b[0m\u001b[1;33m)\u001b[0m \u001b[1;33m+\u001b[0m \u001b[1;34m']/td/a'\u001b[0m\u001b[1;33m\u001b[0m\u001b[1;33m\u001b[0m\u001b[0m\n\u001b[1;32m---> 24\u001b[1;33m     \u001b[0melem\u001b[0m \u001b[1;33m=\u001b[0m \u001b[0mWebDriverWait\u001b[0m\u001b[1;33m(\u001b[0m\u001b[0mdriver\u001b[0m\u001b[1;33m,\u001b[0m \u001b[1;36m10\u001b[0m\u001b[1;33m)\u001b[0m\u001b[1;33m.\u001b[0m\u001b[0muntil\u001b[0m\u001b[1;33m(\u001b[0m\u001b[0mEC\u001b[0m\u001b[1;33m.\u001b[0m\u001b[0melement_to_be_clickable\u001b[0m\u001b[1;33m(\u001b[0m\u001b[1;33m(\u001b[0m\u001b[0mBy\u001b[0m\u001b[1;33m.\u001b[0m\u001b[0mXPATH\u001b[0m\u001b[1;33m,\u001b[0m \u001b[0mxpath\u001b[0m\u001b[1;33m)\u001b[0m\u001b[1;33m)\u001b[0m\u001b[1;33m)\u001b[0m\u001b[1;33m\u001b[0m\u001b[1;33m\u001b[0m\u001b[0m\n\u001b[0m\u001b[0;32m     25\u001b[0m \u001b[1;33m\u001b[0m\u001b[0m\n\u001b[0;32m     26\u001b[0m     \u001b[1;32mreturn\u001b[0m \u001b[0mstr\u001b[0m\u001b[1;33m(\u001b[0m\u001b[0melem\u001b[0m\u001b[1;33m.\u001b[0m\u001b[0mtext\u001b[0m\u001b[1;33m)\u001b[0m\u001b[1;33m,\u001b[0m \u001b[0melem\u001b[0m\u001b[1;33m.\u001b[0m\u001b[0mget_attribute\u001b[0m\u001b[1;33m(\u001b[0m\u001b[1;34m\"href\"\u001b[0m\u001b[1;33m)\u001b[0m\u001b[1;33m\u001b[0m\u001b[1;33m\u001b[0m\u001b[0m\n",
      "\u001b[1;32mC:\\Anaconda3\\lib\\site-packages\\selenium\\webdriver\\support\\wait.py\u001b[0m in \u001b[0;36muntil\u001b[1;34m(self, method, message)\u001b[0m\n\u001b[0;32m     78\u001b[0m             \u001b[1;32mif\u001b[0m \u001b[0mtime\u001b[0m\u001b[1;33m.\u001b[0m\u001b[0mtime\u001b[0m\u001b[1;33m(\u001b[0m\u001b[1;33m)\u001b[0m \u001b[1;33m>\u001b[0m \u001b[0mend_time\u001b[0m\u001b[1;33m:\u001b[0m\u001b[1;33m\u001b[0m\u001b[1;33m\u001b[0m\u001b[0m\n\u001b[0;32m     79\u001b[0m                 \u001b[1;32mbreak\u001b[0m\u001b[1;33m\u001b[0m\u001b[1;33m\u001b[0m\u001b[0m\n\u001b[1;32m---> 80\u001b[1;33m         \u001b[1;32mraise\u001b[0m \u001b[0mTimeoutException\u001b[0m\u001b[1;33m(\u001b[0m\u001b[0mmessage\u001b[0m\u001b[1;33m,\u001b[0m \u001b[0mscreen\u001b[0m\u001b[1;33m,\u001b[0m \u001b[0mstacktrace\u001b[0m\u001b[1;33m)\u001b[0m\u001b[1;33m\u001b[0m\u001b[1;33m\u001b[0m\u001b[0m\n\u001b[0m\u001b[0;32m     81\u001b[0m \u001b[1;33m\u001b[0m\u001b[0m\n\u001b[0;32m     82\u001b[0m     \u001b[1;32mdef\u001b[0m \u001b[0muntil_not\u001b[0m\u001b[1;33m(\u001b[0m\u001b[0mself\u001b[0m\u001b[1;33m,\u001b[0m \u001b[0mmethod\u001b[0m\u001b[1;33m,\u001b[0m \u001b[0mmessage\u001b[0m\u001b[1;33m=\u001b[0m\u001b[1;34m''\u001b[0m\u001b[1;33m)\u001b[0m\u001b[1;33m:\u001b[0m\u001b[1;33m\u001b[0m\u001b[1;33m\u001b[0m\u001b[0m\n",
      "\u001b[1;31mTimeoutException\u001b[0m: Message: \n"
     ]
    }
   ],
   "source": [
    "import math, os, re, time\n",
    "\n",
    "import numpy as np\n",
    "import pandas as pd\n",
    "\n",
    "from selenium import webdriver\n",
    "from selenium.webdriver.common.keys import Keys\n",
    "from selenium.webdriver.common.by import By\n",
    "from selenium.webdriver.support.ui import WebDriverWait\n",
    "from selenium.webdriver.support import expected_conditions as EC\n",
    "\n",
    "url = \"https://transcripts.fandom.com/wiki/Avatar:_The_Last_Airbender\"\n",
    "driver_loc = r\"C:\\Users\\Kai Jing\\Desktop\\KJ's Online Sync\\Selenium\\chromedriver.exe\"\n",
    "\n",
    "driver = webdriver.Chrome(executable_path=driver_loc)\n",
    "driver.get(url)\n",
    "\n",
    "episode_links = {}\n",
    "\n",
    "df = pd.DataFrame(columns=[\"book\", \"episode\", \"title\", \"character\", \"text\"])\n",
    "\n",
    "def get_link(i, j, k):\n",
    "    xpath = '//*[@id=\"mw-content-text\"]/table/tbody/tr/td/table[' + str(i) + ']/tbody/tr/td[' + str(j) + ']/table/tbody/tr[' + str(k) + ']/td/a'\n",
    "    elem = WebDriverWait(driver, 10).until(EC.element_to_be_clickable((By.XPATH, xpath)))\n",
    "    \n",
    "    return str(elem.text), elem.get_attribute(\"href\")\n",
    "\n",
    "def extract_url(url, book, eps, title):\n",
    "    driver.get(url)\n",
    "    \n",
    "    data = pd.DataFrame(columns=[\"book\", \"episode\", \"title\", \"character\", \"text\"])\n",
    "    \n",
    "    for table in range(1, 6):\n",
    "        if table > 1:\n",
    "            eps += 1 \n",
    "        \n",
    "#         try:\n",
    "#             xpath_char = '//*[@id=\"mw-content-text\"]/table[' + str(table) + ']/tbody/tr/th'\n",
    "#             xpath_text = '//*[@id=\"mw-content-text\"]/table[' + str(table) + ']/tbody/tr/th'\n",
    "            \n",
    "#             elem_char = WebDriverWait(driver, 5).until(EC.element_to_be_clickable((By.XPATH, xpath_char))).text\n",
    "#             elem_text = WebDriverWait(driver, 5).until(EC.element_to_be_clickable((By.XPATH, xpath_text))).text\n",
    "            \n",
    "#             new_data = pd.DataFrame([[book, eps, title, elem_char, elem_text]], \n",
    "#                                     columns=[\"book\", \"episode\", \"title\", \"character\", \"text\"])\n",
    "#             data = pd.concat([data, new_data])\n",
    "            \n",
    "#         except:\n",
    "#             continue\n",
    "        \n",
    "        for row in range(1, 501):\n",
    "            try:\n",
    "                xpath_char = '//*[@id=\"mw-content-text\"]/table[' + str(table) + ']/tbody/tr[' + str(row) + ']/td[1]'\n",
    "                xpath_text = '//*[@id=\"mw-content-text\"]/table[' + str(table) + ']/tbody/tr[' + str(row) + ']/td[2]'\n",
    "\n",
    "                elem_char = WebDriverWait(driver, 5).until(EC.element_to_be_clickable((By.XPATH, xpath_char))).text\n",
    "                elem_text = WebDriverWait(driver, 5).until(EC.element_to_be_clickable((By.XPATH, xpath_text))).text\n",
    "            except:\n",
    "                break\n",
    "            \n",
    "            print(elem_text)\n",
    "            \n",
    "            new_data = pd.DataFrame([[book, eps, title, elem_char, elem_text]], \n",
    "                                    columns=[\"book\", \"episode\", \"title\", \"character\", \"text\"])\n",
    "            data = pd.concat([data, new_data])\n",
    "    \n",
    "    return data\n",
    "            \n",
    "# Book One: Water, and Book Two: Earth\n",
    "for i in [2, 3]:\n",
    "    eps_count = 1\n",
    "    \n",
    "    visited_urls = []\n",
    "    \n",
    "    for j in [1, 2]:\n",
    "        for k in range(1, 11):\n",
    "            eps_title, eps_link = get_link(i, j, k) \n",
    "            \n",
    "            if eps_link in visited_urls:\n",
    "                continue\n",
    "            \n",
    "            df = pd.concat([df, extract_url(eps_link, i-1, eps_count, eps_title)])\n",
    "            \n",
    "            visited_urls.append(eps_link)\n",
    "            eps_count += 1\n",
    "            \n",
    "            episode_links.update({eps_title: eps_link})\n",
    "\n",
    "# # Book Three: Fire\n",
    "# for i in [1, 2]:\n",
    "#     if i==1:\n",
    "#         for j in range(2, 12):\n",
    "#             episode_links.update(get_link(4, i, j))\n",
    "#     elif i==2:\n",
    "#         for j in range(1, 12):\n",
    "#             episode_links.update(get_link(4, i, j))\n",
    "\n",
    "episode_links"
   ]
  },
  {
   "cell_type": "code",
   "execution_count": 16,
   "metadata": {
    "ExecuteTime": {
     "end_time": "2020-09-17T10:11:54.114765Z",
     "start_time": "2020-09-17T10:11:54.091828Z"
    }
   },
   "outputs": [
    {
     "data": {
      "text/plain": [
       "['https://transcripts.fandom.com/wiki/The_Earth_King',\n",
       " 'https://transcripts.fandom.com/wiki/Bato_of_the_Water_Tribe',\n",
       " 'https://transcripts.fandom.com/wiki/The_Waterbending_Master',\n",
       " 'https://transcripts.fandom.com/wiki/The_Drill',\n",
       " 'https://transcripts.fandom.com/wiki/Nightmares_and_Daydreams',\n",
       " 'https://transcripts.fandom.com/wiki/The_Avatar_and_the_Fire_Lord',\n",
       " 'https://transcripts.fandom.com/wiki/Zuko_Alone',\n",
       " 'https://transcripts.fandom.com/wiki/Avatar_Day',\n",
       " 'https://transcripts.fandom.com/wiki/The_Headband',\n",
       " 'https://transcripts.fandom.com/wiki/The_Tales_of_Ba_Sing_Se',\n",
       " 'https://transcripts.fandom.com/wiki/Sozin%27s_Comet',\n",
       " 'https://transcripts.fandom.com/wiki/The_King_of_Omashu',\n",
       " 'https://transcripts.fandom.com/wiki/The_Southern_Raiders',\n",
       " 'https://transcripts.fandom.com/wiki/The_Boiling_Rock',\n",
       " 'https://transcripts.fandom.com/wiki/Return_to_Omashu',\n",
       " 'https://transcripts.fandom.com/wiki/The_Boy_in_the_Iceberg',\n",
       " 'https://transcripts.fandom.com/wiki/The_Storm_(Avatar:_The_Last_Airbender)',\n",
       " 'https://transcripts.fandom.com/wiki/The_Avatar_Returns',\n",
       " 'https://transcripts.fandom.com/wiki/The_Deserter_(Avatar:_The_Last_Airbender)',\n",
       " 'https://transcripts.fandom.com/wiki/Lake_Laogai',\n",
       " 'https://transcripts.fandom.com/wiki/The_Awakening',\n",
       " 'https://transcripts.fandom.com/wiki/The_Chase',\n",
       " 'https://transcripts.fandom.com/wiki/The_Ember_Island_Players',\n",
       " 'https://transcripts.fandom.com/wiki/The_Waterbending_Scroll',\n",
       " 'https://transcripts.fandom.com/wiki/The_Blind_Bandit',\n",
       " 'https://transcripts.fandom.com/wiki/The_Avatar_State',\n",
       " 'https://transcripts.fandom.com/wiki/The_Library',\n",
       " 'https://transcripts.fandom.com/wiki/The_Puppetmaster',\n",
       " 'https://transcripts.fandom.com/wiki/Sokka%27s_Master',\n",
       " 'https://transcripts.fandom.com/wiki/The_Fortuneteller',\n",
       " 'https://transcripts.fandom.com/wiki/The_Firebending_Masters',\n",
       " 'https://transcripts.fandom.com/wiki/Imprisoned',\n",
       " 'https://transcripts.fandom.com/wiki/The_Beach',\n",
       " 'https://transcripts.fandom.com/wiki/The_Swamp',\n",
       " 'https://transcripts.fandom.com/wiki/The_Guru',\n",
       " 'https://transcripts.fandom.com/wiki/The_Warriors_of_Kyoshi',\n",
       " 'https://transcripts.fandom.com/wiki/The_Runaway',\n",
       " 'https://transcripts.fandom.com/wiki/Winter_Solstice',\n",
       " 'https://transcripts.fandom.com/wiki/Bitter_Work',\n",
       " 'https://transcripts.fandom.com/wiki/Appa%27s_Lost_Days',\n",
       " 'https://transcripts.fandom.com/wiki/The_Crossroads_of_Destiny',\n",
       " 'https://transcripts.fandom.com/wiki/The_Cave_of_Two_Lovers',\n",
       " 'https://transcripts.fandom.com/wiki/The_Blue_Spirit',\n",
       " 'https://transcripts.fandom.com/wiki/City_of_Walls_and_Secrets',\n",
       " 'https://transcripts.fandom.com/wiki/The_Western_Air_Temple',\n",
       " 'https://transcripts.fandom.com/wiki/The_Southern_Air_Temple',\n",
       " 'https://transcripts.fandom.com/wiki/The_Painted_Lady',\n",
       " 'https://transcripts.fandom.com/wiki/The_Great_Divide',\n",
       " 'https://transcripts.fandom.com/wiki/Jet',\n",
       " 'https://transcripts.fandom.com/wiki/The_Siege_of_the_North',\n",
       " 'https://transcripts.fandom.com/wiki/The_Serpent%27s_Pass',\n",
       " 'https://transcripts.fandom.com/wiki/The_Desert',\n",
       " 'https://transcripts.fandom.com/wiki/The_Day_of_Black_Sun',\n",
       " 'https://transcripts.fandom.com/wiki/The_Northern_Air_Temple']"
      ]
     },
     "execution_count": 16,
     "metadata": {},
     "output_type": "execute_result"
    }
   ],
   "source": [
    "list(set(episode_links.values()))"
   ]
  },
  {
   "cell_type": "code",
   "execution_count": null,
   "metadata": {},
   "outputs": [],
   "source": [
    "'//*[@id=\"mw-content-text\"]/table[1]/tbody/tr/th'\n",
    "'//*[@id=\"mw-content-text\"]/table[1]/tbody/tr/td'\n",
    "\n",
    "'//*[@id=\"mw-content-text\"]/table[2]/tbody/tr[1]/td[1]'\n",
    "'//*[@id=\"mw-content-text\"]/table[2]/tbody/tr[1]/td[2]'\n",
    "\n",
    "'//*[@id=\"mw-content-text\"]/table[2]/tbody/tr[2]/th'\n",
    "'//*[@id=\"mw-content-text\"]/table[2]/tbody/tr[2]/td'\n",
    "\n",
    "'//*[@id=\"mw-content-text\"]/table[2]/tbody/tr[222]/td[1]'\n",
    "'//*[@id=\"mw-content-text\"]/table[2]/tbody/tr[222]/td[2]'"
   ]
  },
  {
   "cell_type": "code",
   "execution_count": 28,
   "metadata": {
    "ExecuteTime": {
     "end_time": "2020-09-17T12:20:00.703528Z",
     "start_time": "2020-09-17T12:20:00.692558Z"
    }
   },
   "outputs": [
    {
     "data": {
      "text/plain": [
       "'As the title card fades, the scene opens onto a shot of an icy sea before panning slowly to the left, revealing more towering icebergs drifting in the water as the shot rotates, moving over a large snow-covered area where the untouched blanket of snow is broken by two tracks of footsteps. The shot fades to another shot of the sea and of icebergs in blue water contrasted by the paleness of the sky beyond. As the shot once again pans to the left and rotates likewise, a small canoe comes into view, its motion through the water indicated by the wake left behind it. The shot zooms slightly on the canoe before cutting down to it, providing a side angle of the canoe and of the walls of ice rising on either side of the vessel. Two people, a boy and a girl, are sitting in the boat; the boy holds a spear at the ready, while the girl simply stares into the water on the other side of the boat. The shot cuts to an overhead view, revealing that a fish is swimming close to the surface right in front of the boy, who is focused on it, following its every movement. Cut to a frontal view of him.'"
      ]
     },
     "execution_count": 28,
     "metadata": {},
     "output_type": "execute_result"
    }
   ],
   "source": [
    "df['text'].values[1]"
   ]
  },
  {
   "cell_type": "code",
   "execution_count": 19,
   "metadata": {
    "ExecuteTime": {
     "end_time": "2020-09-17T10:23:55.173689Z",
     "start_time": "2020-09-17T10:23:55.089288Z"
    }
   },
   "outputs": [
    {
     "data": {
      "text/html": [
       "<div>\n",
       "<style scoped>\n",
       "    .dataframe tbody tr th:only-of-type {\n",
       "        vertical-align: middle;\n",
       "    }\n",
       "\n",
       "    .dataframe tbody tr th {\n",
       "        vertical-align: top;\n",
       "    }\n",
       "\n",
       "    .dataframe thead th {\n",
       "        text-align: right;\n",
       "    }\n",
       "</style>\n",
       "<table border=\"1\" class=\"dataframe\">\n",
       "  <thead>\n",
       "    <tr style=\"text-align: right;\">\n",
       "      <th></th>\n",
       "      <th>character</th>\n",
       "      <th>text</th>\n",
       "    </tr>\n",
       "  </thead>\n",
       "  <tbody>\n",
       "    <tr>\n",
       "      <th>0</th>\n",
       "      <td>2</td>\n",
       "      <td>3</td>\n",
       "    </tr>\n",
       "    <tr>\n",
       "      <th>1</th>\n",
       "      <td>3</td>\n",
       "      <td>4</td>\n",
       "    </tr>\n",
       "    <tr>\n",
       "      <th>0</th>\n",
       "      <td>2</td>\n",
       "      <td>3</td>\n",
       "    </tr>\n",
       "    <tr>\n",
       "      <th>1</th>\n",
       "      <td>3</td>\n",
       "      <td>4</td>\n",
       "    </tr>\n",
       "  </tbody>\n",
       "</table>\n",
       "</div>"
      ],
      "text/plain": [
       "   character  text\n",
       "0          2     3\n",
       "1          3     4\n",
       "0          2     3\n",
       "1          3     4"
      ]
     },
     "execution_count": 19,
     "metadata": {},
     "output_type": "execute_result"
    }
   ],
   "source": [
    "pd.concat([pd.DataFrame([[2, 3], [3, 4]], columns=[\"character\", \"text\"]), pd.DataFrame([[2, 3], [3, 4]], columns=[\"character\", \"text\"])])"
   ]
  },
  {
   "cell_type": "code",
   "execution_count": null,
   "metadata": {
    "ExecuteTime": {
     "end_time": "2020-09-17T12:29:02.001581Z",
     "start_time": "2020-09-17T12:29:01.988616Z"
    }
   },
   "outputs": [],
   "source": []
  }
 ],
 "metadata": {
  "kernelspec": {
   "display_name": "Python 3",
   "language": "python",
   "name": "python3"
  },
  "language_info": {
   "codemirror_mode": {
    "name": "ipython",
    "version": 3
   },
   "file_extension": ".py",
   "mimetype": "text/x-python",
   "name": "python",
   "nbconvert_exporter": "python",
   "pygments_lexer": "ipython3",
   "version": "3.7.6"
  },
  "toc": {
   "base_numbering": 1,
   "nav_menu": {},
   "number_sections": true,
   "sideBar": true,
   "skip_h1_title": false,
   "title_cell": "Table of Contents",
   "title_sidebar": "Contents",
   "toc_cell": false,
   "toc_position": {},
   "toc_section_display": true,
   "toc_window_display": false
  }
 },
 "nbformat": 4,
 "nbformat_minor": 4
}
