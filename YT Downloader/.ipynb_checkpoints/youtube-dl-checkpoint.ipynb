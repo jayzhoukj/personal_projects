{
 "cells": [
  {
   "cell_type": "markdown",
   "metadata": {},
   "source": [
    "https://stackoverflow.com/questions/38510694/how-to-add-album-art-to-mp3-file-using-python-3"
   ]
  },
  {
   "cell_type": "code",
   "execution_count": 1,
   "metadata": {
    "ExecuteTime": {
     "end_time": "2021-01-06T18:54:29.042615Z",
     "start_time": "2021-01-06T18:53:29.002489Z"
    }
   },
   "outputs": [
    {
     "name": "stdout",
     "output_type": "stream",
     "text": [
      "Continue? [y/n] y\n",
      "YouTube URL: https://www.youtube.com/watch?v=w6rgWf9CaJo\n",
      "File Name [<artist> - <title>]: 汪苏泷 - 我要你\n",
      "[youtube] w6rgWf9CaJo: Downloading webpage\n",
      "[download] Destination: 【纯享】《我要你》汪苏泷 欧阳娜娜《美好的时光》 Wonderful Time _浙江卫视官方HD-w6rgWf9CaJo.webm\n",
      "[download] 100% of 3.65MiB in 00:00                  \n",
      "[ffmpeg] Destination: 【纯享】《我要你》汪苏泷 欧阳娜娜《美好的时光》 Wonderful Time _浙江卫视官方HD-w6rgWf9CaJo.mp3\n",
      "Deleting original file 【纯享】《我要你》汪苏泷 欧阳娜娜《美好的时光》 Wonderful Time _浙江卫视官方HD-w6rgWf9CaJo.webm (pass -k to keep)\n",
      "Continue? [y/n] n\n",
      "Finished downloading...\n"
     ]
    }
   ],
   "source": [
    "from __future__ import unicode_literals\n",
    "\n",
    "import eyed3\n",
    "import ffmpeg\n",
    "import os\n",
    "import pyautogui as pag\n",
    "import requests\n",
    "import shutil\n",
    "import time\n",
    "import youtube_dl\n",
    "\n",
    "class mp3downloader:\n",
    "    \n",
    "    def __init__(self):\n",
    "        \n",
    "        self.original = []\n",
    "        self.tempName = []\n",
    "        self.root_dir = os.getcwd()\n",
    "        self.dest_dir = r'C:\\Users\\Kai Jing\\Music\\Songs\\normalized\\00 normalize'\n",
    "        \n",
    "        # Download parameters\n",
    "        self.ydl_opts = {\n",
    "            'format': 'bestaudio/best',\n",
    "            'postprocessors': [\n",
    "                {\n",
    "                    'key': 'FFmpegExtractAudio',\n",
    "                    'preferredcodec': 'mp3',\n",
    "                    'preferredquality': '320',\n",
    "                },\n",
    "            ],\n",
    "        }\n",
    "        \n",
    "    def download(self):\n",
    "\n",
    "        while True:\n",
    "            main_cmd = input('Continue? [y/n] ')\n",
    "            if main_cmd.strip().lower() == 'n':\n",
    "                print('Finished downloading...')\n",
    "                return\n",
    "            elif main_cmd.strip().lower() == 'y':\n",
    "                pass\n",
    "            else:\n",
    "                print('CommandError: Invalid Input Command!')\n",
    "                return\n",
    "\n",
    "            # Collecting download url and file name from user\n",
    "            url_input = input('YouTube URL: ')\n",
    "            file_name = input('File Name [<artist> - <title>]: ') + '.mp3'\n",
    "            \n",
    "            # Clean youtube url\n",
    "            if '&' in url_input:\n",
    "                url_input = url_input.split('&')[0]\n",
    "            \n",
    "            artist = file_name.split(' - ')[0]\n",
    "            title = file_name.split(' - ')[1][:-4]\n",
    "            \n",
    "            # Download mp3 file\n",
    "            with youtube_dl.YoutubeDL(self.ydl_opts) as ydl:\n",
    "                ydl.download([url_input])\n",
    "            \n",
    "            # Rename downloaded mp3 file\n",
    "            youtube_uri = url_input.split('=')[-1]\n",
    "            downloaded_name = [name for name in os.listdir() if youtube_uri in name][0]\n",
    "            \n",
    "            src = os.path.join(self.root_dir, downloaded_name)\n",
    "            dest = os.path.join(self.root_dir, file_name)\n",
    "\n",
    "            if file_name in os.listdir():\n",
    "                os.remove(dest)\n",
    "                os.rename(src, dest)\n",
    "            else:\n",
    "                os.rename(src, dest)\n",
    "            \n",
    "            # Update mp3 ID3 tags\n",
    "            audio = eyed3.load(file_name)\n",
    "\n",
    "            audio.tag.artist = artist\n",
    "            audio.tag.title = title\n",
    "            \n",
    "            url = r'https://img.youtube.com/vi/' + youtube_uri + '/0.jpg'\n",
    "            response = requests.get(url)\n",
    "            cover_art = response.content\n",
    "            \n",
    "            audio.tag.images.set(3,\n",
    "                                 img_data=cover_art,\n",
    "                                 mime_type='image/jpeg')\n",
    "\n",
    "            audio.tag.save()\n",
    "    \n",
    "    def normalize(self):\n",
    "        \n",
    "        self.original = [file for file in os.listdir() if file.endswith('.mp3')]\n",
    "        self.tempName = [str(i)+'.mp3' for i in range(len(self.original))]\n",
    "        \n",
    "        # Map from chinese to english\n",
    "        for i, file in enumerate(self.original):\n",
    "            src = os.path.join(self.root_dir, file)\n",
    "            dest = os.path.join(self.root_dir, self.tempName[i])\n",
    "\n",
    "            os.rename(src, dest)\n",
    "\n",
    "        for i, name in enumerate(self.tempName):\n",
    "            pag.click(20, 1060)\n",
    "            time.sleep(1)\n",
    "            \n",
    "            pag.typewrite([char for char in 'mp3gain'] + ['enter'], interval=0.1)\n",
    "            time.sleep(2.5)\n",
    "\n",
    "            # Add file\n",
    "            pag.click(40, 80)\n",
    "            time.sleep(1)\n",
    "\n",
    "            # Select file\n",
    "            if i == 0:\n",
    "                pag.click(500, 95)\n",
    "                pag.typewrite([char for char in self.root_dir] + ['enter'], interval=0.05)\n",
    "                time.sleep(.5)\n",
    "            \n",
    "            pag.click(330, 530)\n",
    "            pag.typewrite([char for char in name] + ['enter'], interval=0.1)\n",
    "            time.sleep(.5)\n",
    "\n",
    "            # Analyze track\n",
    "            pag.click(210, 80)\n",
    "            time.sleep(7)\n",
    "\n",
    "            # Track gain\n",
    "            pag.click(310, 80)\n",
    "            time.sleep(5)\n",
    "\n",
    "            # Exit program\n",
    "            pag.click(1895, 10)\n",
    "\n",
    "        # Reverse map from english to chinese\n",
    "        for i, file in enumerate(self.tempName):\n",
    "            src = os.path.join(self.root_dir, file)\n",
    "            dest = os.path.join(self.root_dir, self.original[i])\n",
    "\n",
    "            os.rename(src, dest)\n",
    "    \n",
    "    def moveToDest(self):\n",
    "        \n",
    "        for file in self.original:\n",
    "            src = os.path.join(self.root_dir, file)\n",
    "            dest = os.path.join(self.dest_dir, file)\n",
    "            \n",
    "            shutil.move(src, dest)\n",
    "\n",
    "if __name__ == '__main__':\n",
    "    \n",
    "    musicDownloader = mp3downloader()\n",
    "    \n",
    "    musicDownloader.download()\n",
    "    musicDownloader.normalize()\n",
    "    musicDownloader.moveToDest()"
   ]
  },
  {
   "cell_type": "code",
   "execution_count": null,
   "metadata": {
    "ExecuteTime": {
     "end_time": "2020-12-15T15:03:40.729370Z",
     "start_time": "2020-12-15T15:03:15.150793Z"
    }
   },
   "outputs": [],
   "source": [
    "from __future__ import unicode_literals\n",
    "\n",
    "import eyed3\n",
    "import os\n",
    "\n",
    "# Renaming mp3 track (includes updating ID3 tags)\n",
    "def update_track():\n",
    "    \n",
    "    song_dir = input('Filepath containing track: ')\n",
    "\n",
    "    old_name = input(\"Old Name [<artist> - <title>]: \") + \".mp3\"\n",
    "    new_name = input(\"New Name [<artist> - <title>]: \")\n",
    "\n",
    "    artist = new_name.split(\" - \")[0]\n",
    "    title = new_name.split(\" - \")[1]\n",
    "\n",
    "    audio = eyed3.load(os.path.join(song_dir, old_name))\n",
    "\n",
    "    audio.tag.artist = artist\n",
    "    audio.tag.title = title\n",
    "\n",
    "    audio.tag.save()\n",
    "\n",
    "    src = os.path.join(song_dir, old_name)\n",
    "    dest = os.path.join(song_dir, new_name + \".mp3\")\n",
    "\n",
    "    os.rename(src, dest)\n",
    "    \n",
    "if __name__ == '__main__':\n",
    "    update_track()"
   ]
  },
  {
   "cell_type": "code",
   "execution_count": 2,
   "metadata": {
    "ExecuteTime": {
     "end_time": "2020-12-30T13:14:29.081367Z",
     "start_time": "2020-12-30T13:11:05.618201Z"
    },
    "scrolled": false
   },
   "outputs": [
    {
     "name": "stdout",
     "output_type": "stream",
     "text": [
      "Links to be downloaded (<link1, link2, ...>): https://www.youtube.com/playlist?list=PLwLSw1_eDZl0fxMZfFjcKLnL0Hj6cw3Op\n",
      "Would you like to download entire playlist? (y/n) y\n",
      "Select quality to download (best, 1080p, 720p, 480p, 360p): best\n",
      "[youtube:tab] PLwLSw1_eDZl0fxMZfFjcKLnL0Hj6cw3Op: Downloading webpage\n",
      "[download] Downloading playlist: BOFURI: I Don't Want to Get Hurt, so I'll Max Out My Defense [English Sub]\n",
      "[youtube:tab] playlist BOFURI: I Don't Want to Get Hurt, so I'll Max Out My Defense [English Sub]: Downloading 12 videos\n",
      "[download] Downloading video 1 of 12\n",
      "[youtube] 8CqSiRk1Jek: Downloading webpage\n"
     ]
    },
    {
     "name": "stderr",
     "output_type": "stream",
     "text": [
      "WARNING: Requested formats are incompatible for merge and will be merged into mkv.\n"
     ]
    },
    {
     "name": "stdout",
     "output_type": "stream",
     "text": [
      "[download] Destination: BOFURI - I Don't Want to Get Hurt, so I'll Max Out My Defense - Episode 01 [English Sub]-8CqSiRk1Jek.f136.mp4\n",
      "[download] 100% of 69.75MiB in 00:06                          \n",
      "[download] Destination: BOFURI - I Don't Want to Get Hurt, so I'll Max Out My Defense - Episode 01 [English Sub]-8CqSiRk1Jek.f251.webm\n",
      "[download] 100% of 22.05MiB in 00:02                          \n",
      "[ffmpeg] Merging formats into \"BOFURI - I Don't Want to Get Hurt, so I'll Max Out My Defense - Episode 01 [English Sub]-8CqSiRk1Jek.mkv\"\n",
      "Deleting original file BOFURI - I Don't Want to Get Hurt, so I'll Max Out My Defense - Episode 01 [English Sub]-8CqSiRk1Jek.f136.mp4 (pass -k to keep)\n",
      "Deleting original file BOFURI - I Don't Want to Get Hurt, so I'll Max Out My Defense - Episode 01 [English Sub]-8CqSiRk1Jek.f251.webm (pass -k to keep)\n",
      "[download] Downloading video 2 of 12\n",
      "[youtube] _TQUS0wLzXw: Downloading webpage\n"
     ]
    },
    {
     "name": "stderr",
     "output_type": "stream",
     "text": [
      "WARNING: Requested formats are incompatible for merge and will be merged into mkv.\n"
     ]
    },
    {
     "name": "stdout",
     "output_type": "stream",
     "text": [
      "[download] Destination: BOFURI - I Don't Want to Get Hurt, so I'll Max Out My Defense - Episode 02 [English Sub]-_TQUS0wLzXw.f136.mp4\n",
      "[download] 100% of 89.78MiB in 00:08                          \n",
      "[download] Destination: BOFURI - I Don't Want to Get Hurt, so I'll Max Out My Defense - Episode 02 [English Sub]-_TQUS0wLzXw.f251.webm\n",
      "[download] 100% of 21.63MiB in 00:02                          \n",
      "[ffmpeg] Merging formats into \"BOFURI - I Don't Want to Get Hurt, so I'll Max Out My Defense - Episode 02 [English Sub]-_TQUS0wLzXw.mkv\"\n",
      "Deleting original file BOFURI - I Don't Want to Get Hurt, so I'll Max Out My Defense - Episode 02 [English Sub]-_TQUS0wLzXw.f136.mp4 (pass -k to keep)\n",
      "Deleting original file BOFURI - I Don't Want to Get Hurt, so I'll Max Out My Defense - Episode 02 [English Sub]-_TQUS0wLzXw.f251.webm (pass -k to keep)\n",
      "[download] Downloading video 3 of 12\n",
      "[youtube] HdvtNgVdJiQ: Downloading webpage\n"
     ]
    },
    {
     "name": "stderr",
     "output_type": "stream",
     "text": [
      "WARNING: Requested formats are incompatible for merge and will be merged into mkv.\n"
     ]
    },
    {
     "name": "stdout",
     "output_type": "stream",
     "text": [
      "[download] Destination: BOFURI - I Don't Want to Get Hurt, so I'll Max Out My Defense - Episode 03 [English Sub]-HdvtNgVdJiQ.f136.mp4\n",
      "[download] 100% of 122.92MiB in 00:12                          \n",
      "[download] Destination: BOFURI - I Don't Want to Get Hurt, so I'll Max Out My Defense - Episode 03 [English Sub]-HdvtNgVdJiQ.f251.webm\n",
      "[download] 100% of 22.08MiB in 00:02                          \n",
      "[ffmpeg] Merging formats into \"BOFURI - I Don't Want to Get Hurt, so I'll Max Out My Defense - Episode 03 [English Sub]-HdvtNgVdJiQ.mkv\"\n",
      "Deleting original file BOFURI - I Don't Want to Get Hurt, so I'll Max Out My Defense - Episode 03 [English Sub]-HdvtNgVdJiQ.f136.mp4 (pass -k to keep)\n",
      "Deleting original file BOFURI - I Don't Want to Get Hurt, so I'll Max Out My Defense - Episode 03 [English Sub]-HdvtNgVdJiQ.f251.webm (pass -k to keep)\n",
      "[download] Downloading video 4 of 12\n",
      "[youtube] 9G41tpxFL_w: Downloading webpage\n"
     ]
    },
    {
     "name": "stderr",
     "output_type": "stream",
     "text": [
      "WARNING: Requested formats are incompatible for merge and will be merged into mkv.\n"
     ]
    },
    {
     "name": "stdout",
     "output_type": "stream",
     "text": [
      "[download] Destination: BOFURI - I Don't Want to Get Hurt, so I'll Max Out My Defense - Episode 04 [English Sub]-9G41tpxFL_w.f136.mp4\n",
      "[download] 100% of 164.25MiB in 00:16                          \n",
      "[download] Destination: BOFURI - I Don't Want to Get Hurt, so I'll Max Out My Defense - Episode 04 [English Sub]-9G41tpxFL_w.f251.webm\n",
      "[download] 100% of 21.48MiB in 00:02                   \n",
      "[ffmpeg] Merging formats into \"BOFURI - I Don't Want to Get Hurt, so I'll Max Out My Defense - Episode 04 [English Sub]-9G41tpxFL_w.mkv\"\n",
      "Deleting original file BOFURI - I Don't Want to Get Hurt, so I'll Max Out My Defense - Episode 04 [English Sub]-9G41tpxFL_w.f136.mp4 (pass -k to keep)\n",
      "Deleting original file BOFURI - I Don't Want to Get Hurt, so I'll Max Out My Defense - Episode 04 [English Sub]-9G41tpxFL_w.f251.webm (pass -k to keep)\n",
      "[download] Downloading video 5 of 12\n",
      "[youtube] iIJNUPFbGe4: Downloading webpage\n"
     ]
    },
    {
     "name": "stderr",
     "output_type": "stream",
     "text": [
      "WARNING: Requested formats are incompatible for merge and will be merged into mkv.\n"
     ]
    },
    {
     "name": "stdout",
     "output_type": "stream",
     "text": [
      "[download] Destination: BOFURI - I Don't Want to Get Hurt, so I'll Max Out My Defense - Episode 05 [English Sub]-iIJNUPFbGe4.f136.mp4\n",
      "[download] 100% of 64.74MiB in 00:06                          \n",
      "[download] Destination: BOFURI - I Don't Want to Get Hurt, so I'll Max Out My Defense - Episode 05 [English Sub]-iIJNUPFbGe4.f251.webm\n",
      "[download] 100% of 21.67MiB in 00:02                          \n",
      "[ffmpeg] Merging formats into \"BOFURI - I Don't Want to Get Hurt, so I'll Max Out My Defense - Episode 05 [English Sub]-iIJNUPFbGe4.mkv\"\n",
      "Deleting original file BOFURI - I Don't Want to Get Hurt, so I'll Max Out My Defense - Episode 05 [English Sub]-iIJNUPFbGe4.f136.mp4 (pass -k to keep)\n",
      "Deleting original file BOFURI - I Don't Want to Get Hurt, so I'll Max Out My Defense - Episode 05 [English Sub]-iIJNUPFbGe4.f251.webm (pass -k to keep)\n",
      "[download] Downloading video 6 of 12\n",
      "[youtube] Lbh9J8i9vBs: Downloading webpage\n"
     ]
    },
    {
     "name": "stderr",
     "output_type": "stream",
     "text": [
      "WARNING: Requested formats are incompatible for merge and will be merged into mkv.\n"
     ]
    },
    {
     "name": "stdout",
     "output_type": "stream",
     "text": [
      "[download] Destination: BOFURI - I Don't Want to Get Hurt, so I'll Max Out My Defense - Episode 06 [English Sub]-Lbh9J8i9vBs.f136.mp4\n",
      "[download] 100% of 73.30MiB in 00:07                          \n",
      "[download] Destination: BOFURI - I Don't Want to Get Hurt, so I'll Max Out My Defense - Episode 06 [English Sub]-Lbh9J8i9vBs.f251.webm\n",
      "[download] 100% of 22.24MiB in 00:02                          \n",
      "[ffmpeg] Merging formats into \"BOFURI - I Don't Want to Get Hurt, so I'll Max Out My Defense - Episode 06 [English Sub]-Lbh9J8i9vBs.mkv\"\n",
      "Deleting original file BOFURI - I Don't Want to Get Hurt, so I'll Max Out My Defense - Episode 06 [English Sub]-Lbh9J8i9vBs.f136.mp4 (pass -k to keep)\n",
      "Deleting original file BOFURI - I Don't Want to Get Hurt, so I'll Max Out My Defense - Episode 06 [English Sub]-Lbh9J8i9vBs.f251.webm (pass -k to keep)\n",
      "[download] Downloading video 7 of 12\n",
      "[youtube] TvMCPpRySDs: Downloading webpage\n"
     ]
    },
    {
     "name": "stderr",
     "output_type": "stream",
     "text": [
      "WARNING: Requested formats are incompatible for merge and will be merged into mkv.\n"
     ]
    },
    {
     "name": "stdout",
     "output_type": "stream",
     "text": [
      "[download] Destination: BOFURI - I Don't Want to Get Hurt, so I'll Max Out My Defense - Episode 07 [English Sub]-TvMCPpRySDs.f136.mp4\n",
      "[download] 100% of 72.04MiB in 00:07                          \n",
      "[download] Destination: BOFURI - I Don't Want to Get Hurt, so I'll Max Out My Defense - Episode 07 [English Sub]-TvMCPpRySDs.f251.webm\n",
      "[download] 100% of 22.00MiB in 00:02                          \n",
      "[ffmpeg] Merging formats into \"BOFURI - I Don't Want to Get Hurt, so I'll Max Out My Defense - Episode 07 [English Sub]-TvMCPpRySDs.mkv\"\n",
      "Deleting original file BOFURI - I Don't Want to Get Hurt, so I'll Max Out My Defense - Episode 07 [English Sub]-TvMCPpRySDs.f136.mp4 (pass -k to keep)\n",
      "Deleting original file BOFURI - I Don't Want to Get Hurt, so I'll Max Out My Defense - Episode 07 [English Sub]-TvMCPpRySDs.f251.webm (pass -k to keep)\n",
      "[download] Downloading video 8 of 12\n",
      "[youtube] 82Gn52rcEgU: Downloading webpage\n"
     ]
    },
    {
     "name": "stderr",
     "output_type": "stream",
     "text": [
      "WARNING: Requested formats are incompatible for merge and will be merged into mkv.\n"
     ]
    },
    {
     "name": "stdout",
     "output_type": "stream",
     "text": [
      "[download] Destination: BOFURI - I Don't Want to Get Hurt, so I'll Max Out My Defense - Episode 08 [English Sub]-82Gn52rcEgU.f136.mp4\n",
      "[download] 100% of 83.57MiB in 00:08                          \n",
      "[download] Destination: BOFURI - I Don't Want to Get Hurt, so I'll Max Out My Defense - Episode 08 [English Sub]-82Gn52rcEgU.f251.webm\n",
      "[download] 100% of 21.88MiB in 00:02                          \n",
      "[ffmpeg] Merging formats into \"BOFURI - I Don't Want to Get Hurt, so I'll Max Out My Defense - Episode 08 [English Sub]-82Gn52rcEgU.mkv\"\n",
      "Deleting original file BOFURI - I Don't Want to Get Hurt, so I'll Max Out My Defense - Episode 08 [English Sub]-82Gn52rcEgU.f136.mp4 (pass -k to keep)\n",
      "Deleting original file BOFURI - I Don't Want to Get Hurt, so I'll Max Out My Defense - Episode 08 [English Sub]-82Gn52rcEgU.f251.webm (pass -k to keep)\n",
      "[download] Downloading video 9 of 12\n",
      "[youtube] qzkIjI6y7YA: Downloading webpage\n"
     ]
    },
    {
     "name": "stderr",
     "output_type": "stream",
     "text": [
      "WARNING: Requested formats are incompatible for merge and will be merged into mkv.\n"
     ]
    },
    {
     "name": "stdout",
     "output_type": "stream",
     "text": [
      "[download] Destination: BOFURI - I Don't Want to Get Hurt, so I'll Max Out My Defense - Episode 09 [English Sub]-qzkIjI6y7YA.f136.mp4\n",
      "[download] 100% of 82.85MiB in 00:12                          \n",
      "[download] Destination: BOFURI - I Don't Want to Get Hurt, so I'll Max Out My Defense - Episode 09 [English Sub]-qzkIjI6y7YA.f251.webm\n",
      "[download] 100% of 21.44MiB in 00:02                          \n",
      "[ffmpeg] Merging formats into \"BOFURI - I Don't Want to Get Hurt, so I'll Max Out My Defense - Episode 09 [English Sub]-qzkIjI6y7YA.mkv\"\n",
      "Deleting original file BOFURI - I Don't Want to Get Hurt, so I'll Max Out My Defense - Episode 09 [English Sub]-qzkIjI6y7YA.f136.mp4 (pass -k to keep)\n",
      "Deleting original file BOFURI - I Don't Want to Get Hurt, so I'll Max Out My Defense - Episode 09 [English Sub]-qzkIjI6y7YA.f251.webm (pass -k to keep)\n",
      "[download] Downloading video 10 of 12\n",
      "[youtube] n6Oq2AQYixs: Downloading webpage\n"
     ]
    },
    {
     "name": "stderr",
     "output_type": "stream",
     "text": [
      "WARNING: Requested formats are incompatible for merge and will be merged into mkv.\n"
     ]
    },
    {
     "name": "stdout",
     "output_type": "stream",
     "text": [
      "[download] Destination: BOFURI - I Don't Want to Get Hurt, so I'll Max Out My Defense - Episode 10 [English Sub]-n6Oq2AQYixs.f136.mp4\n",
      "[download] 100% of 83.13MiB in 00:08                          \n",
      "[download] Destination: BOFURI - I Don't Want to Get Hurt, so I'll Max Out My Defense - Episode 10 [English Sub]-n6Oq2AQYixs.f251.webm\n",
      "[download] 100% of 21.30MiB in 00:02                          \n",
      "[ffmpeg] Merging formats into \"BOFURI - I Don't Want to Get Hurt, so I'll Max Out My Defense - Episode 10 [English Sub]-n6Oq2AQYixs.mkv\"\n",
      "Deleting original file BOFURI - I Don't Want to Get Hurt, so I'll Max Out My Defense - Episode 10 [English Sub]-n6Oq2AQYixs.f136.mp4 (pass -k to keep)\n",
      "Deleting original file BOFURI - I Don't Want to Get Hurt, so I'll Max Out My Defense - Episode 10 [English Sub]-n6Oq2AQYixs.f251.webm (pass -k to keep)\n",
      "[download] Downloading video 11 of 12\n",
      "[youtube] UQNVxd4SsG4: Downloading webpage\n"
     ]
    },
    {
     "name": "stderr",
     "output_type": "stream",
     "text": [
      "WARNING: Requested formats are incompatible for merge and will be merged into mkv.\n"
     ]
    },
    {
     "name": "stdout",
     "output_type": "stream",
     "text": [
      "[download] Destination: BOFURI - I Don't Want to Get Hurt, so I'll Max Out My Defense - Episode 11 [English Sub]-UQNVxd4SsG4.f136.mp4\n",
      "[download] 100% of 104.65MiB in 00:10                          \n",
      "[download] Destination: BOFURI - I Don't Want to Get Hurt, so I'll Max Out My Defense - Episode 11 [English Sub]-UQNVxd4SsG4.f251.webm\n",
      "[download] 100% of 21.31MiB in 00:02                          \n",
      "[ffmpeg] Merging formats into \"BOFURI - I Don't Want to Get Hurt, so I'll Max Out My Defense - Episode 11 [English Sub]-UQNVxd4SsG4.mkv\"\n",
      "Deleting original file BOFURI - I Don't Want to Get Hurt, so I'll Max Out My Defense - Episode 11 [English Sub]-UQNVxd4SsG4.f136.mp4 (pass -k to keep)\n",
      "Deleting original file BOFURI - I Don't Want to Get Hurt, so I'll Max Out My Defense - Episode 11 [English Sub]-UQNVxd4SsG4.f251.webm (pass -k to keep)\n",
      "[download] Downloading video 12 of 12\n",
      "[youtube] Kd3pG_-PhUY: Downloading webpage\n"
     ]
    },
    {
     "name": "stderr",
     "output_type": "stream",
     "text": [
      "WARNING: Requested formats are incompatible for merge and will be merged into mkv.\n"
     ]
    },
    {
     "name": "stdout",
     "output_type": "stream",
     "text": [
      "[download] Destination: BOFURI - I Don't Want to Get Hurt, so I'll Max Out My Defense - Episode 12 [English Sub]-Kd3pG_-PhUY.f136.mp4\n",
      "[download] 100% of 189.26MiB in 00:19                          \n",
      "[download] Destination: BOFURI - I Don't Want to Get Hurt, so I'll Max Out My Defense - Episode 12 [English Sub]-Kd3pG_-PhUY.f251.webm\n",
      "[download] 100% of 21.48MiB in 00:02                          \n",
      "[ffmpeg] Merging formats into \"BOFURI - I Don't Want to Get Hurt, so I'll Max Out My Defense - Episode 12 [English Sub]-Kd3pG_-PhUY.mkv\"\n",
      "Deleting original file BOFURI - I Don't Want to Get Hurt, so I'll Max Out My Defense - Episode 12 [English Sub]-Kd3pG_-PhUY.f136.mp4 (pass -k to keep)\n",
      "Deleting original file BOFURI - I Don't Want to Get Hurt, so I'll Max Out My Defense - Episode 12 [English Sub]-Kd3pG_-PhUY.f251.webm (pass -k to keep)\n",
      "[download] Finished downloading playlist: BOFURI: I Don't Want to Get Hurt, so I'll Max Out My Defense [English Sub]\n",
      "File type downloaded: mkv\n"
     ]
    }
   ],
   "source": [
    "from __future__ import unicode_literals\n",
    "\n",
    "import os\n",
    "import requests\n",
    "import shutil\n",
    "import time\n",
    "import youtube_dl\n",
    "\n",
    "# 137: 1080p\n",
    "# 136: 720p\n",
    "# 135: 480p\n",
    "# 134: 360p\n",
    "# 133: 240p\n",
    "\n",
    "class mp4downloader:\n",
    "     \n",
    "    def __init__(self):\n",
    "\n",
    "        self.root_dir = os.getcwd()\n",
    "        self.target_dir = ''\n",
    "        self.code = 137\n",
    "        self.quality = ''\n",
    "        self.quality_map = {\n",
    "            '1080p': 137,\n",
    "            '720p': 136,\n",
    "            '480p': 135,\n",
    "            '360p': 134\n",
    "        }\n",
    "        self.best_opts = {\n",
    "            'format': 'bestvideo+bestaudio/best',\n",
    "#             'outtmpl': 'test.%(ext)s',\n",
    "        }\n",
    "\n",
    "    def main(self):\n",
    "\n",
    "        self.links = input('Links to be downloaded (<link1, link2, ...>): ')\n",
    "        self.clean_links()\n",
    "        self.urls = [item.strip() for item in self.links.split(',')]\n",
    "        \n",
    "        self.quality = input('Select quality to download (best, 1080p, 720p, 480p, 360p): ')\n",
    "        self.quality = self.quality.lower().strip()\n",
    "        \n",
    "        if self.quality == 'best':\n",
    "            self.best_quality()\n",
    "        else:\n",
    "            self.code = self.quality_map[self.quality]\n",
    "            self.dl_quality()\n",
    "            \n",
    "        self.clean_dl()\n",
    "\n",
    "    def clean_links(self):\n",
    "        \n",
    "        if 'list' in self.links:\n",
    "            self.command = input('Would you like to download entire playlist? (y/n) ')\n",
    "        else:\n",
    "            return\n",
    "\n",
    "        if self.command.lower().strip() == 'n':\n",
    "            self.links = [item.strip() for item in self.links.split(',')]\n",
    "            self.links = ', '.join(self.links)\n",
    "            \n",
    "            return\n",
    "    \n",
    "    def best_quality(self):\n",
    "        \n",
    "        with youtube_dl.YoutubeDL(self.best_opts) as ydl:\n",
    "            ydl.download(self.urls)\n",
    "        \n",
    "#         try:\n",
    "#             with youtube_dl.YoutubeDL({'format':str(self.code)}) as ydl:\n",
    "#                 ydl.download(self.urls)\n",
    "\n",
    "#             return\n",
    "\n",
    "#         except:\n",
    "#             if self.code <= 134:\n",
    "\n",
    "#                 return\n",
    "\n",
    "#             else:\n",
    "#                 self.code -= 1\n",
    "#                 self.best_quality()\n",
    "                \n",
    "    def dl_quality(self):\n",
    "        \n",
    "        with youtube_dl.YoutubeDL({'format':str(self.code)}) as ydl:\n",
    "            ydl.download(self.urls)\n",
    "            \n",
    "    def clean_dl(self):\n",
    "        \n",
    "        self.file_type = '.' + input('File type downloaded: ')\n",
    "        \n",
    "        old_names = [item for item in os.listdir() if self.file_type in item]\n",
    "        new_names = [item[:-16]+self.file_type for item in old_names]\n",
    "        \n",
    "        for i, name in enumerate(old_names):\n",
    "            src = os.path.join(self.root_dir, name)\n",
    "            dest = os.path.join(self.root_dir, new_names[i])\n",
    "            \n",
    "            os.rename(src, dest)\n",
    "\n",
    "if __name__ == '__main__':\n",
    "    \n",
    "    videoDownloader = mp4downloader()\n",
    "    videoDownloader.main()"
   ]
  },
  {
   "cell_type": "code",
   "execution_count": null,
   "metadata": {},
   "outputs": [],
   "source": []
  }
 ],
 "metadata": {
  "kernelspec": {
   "display_name": "Python 3",
   "language": "python",
   "name": "python3"
  },
  "language_info": {
   "codemirror_mode": {
    "name": "ipython",
    "version": 3
   },
   "file_extension": ".py",
   "mimetype": "text/x-python",
   "name": "python",
   "nbconvert_exporter": "python",
   "pygments_lexer": "ipython3",
   "version": "3.7.6"
  },
  "toc": {
   "base_numbering": 1,
   "nav_menu": {},
   "number_sections": true,
   "sideBar": true,
   "skip_h1_title": false,
   "title_cell": "Table of Contents",
   "title_sidebar": "Contents",
   "toc_cell": false,
   "toc_position": {},
   "toc_section_display": true,
   "toc_window_display": false
  }
 },
 "nbformat": 4,
 "nbformat_minor": 4
}
