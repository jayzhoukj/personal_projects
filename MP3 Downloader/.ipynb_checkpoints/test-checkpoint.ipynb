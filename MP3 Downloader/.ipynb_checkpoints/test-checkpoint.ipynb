{
 "cells": [
  {
   "cell_type": "code",
   "execution_count": 14,
   "metadata": {
    "ExecuteTime": {
     "end_time": "2020-12-05T13:45:27.459243Z",
     "start_time": "2020-12-05T13:44:43.095901Z"
    }
   },
   "outputs": [],
   "source": [
    "import os\n",
    "import pyautogui as pag\n",
    "import time\n",
    "\n",
    "mapper = {name: str(i)+'.mp3' for i, name in enumerate([file for file in os.listdir() if file.endswith('.mp3')])}\n",
    "mapper2 = mapper.copy()\n",
    "\n",
    "# Map from chinese to english\n",
    "for key in mapper:\n",
    "    src = os.path.join(os.getcwd(), key)\n",
    "    dest = os.path.join(os.getcwd(), mapper[key])\n",
    "    \n",
    "    os.rename(src, dest)\n",
    "    \n",
    "for name in [mapper[key] for key in mapper]:\n",
    "    pag.click(20, 1060)\n",
    "    pag.typewrite([char for char in 'mp3gain'] + ['enter'], interval=0.1)\n",
    "\n",
    "    time.sleep(1)\n",
    "\n",
    "    # Add file\n",
    "    pag.click(40, 80)\n",
    "    time.sleep(.5)\n",
    "\n",
    "    # Select file\n",
    "    pag.typewrite([char for char in name] + ['enter'], interval=0.1)\n",
    "    time.sleep(.5)\n",
    "\n",
    "    # Analyze track\n",
    "    pag.click(210, 80)\n",
    "    time.sleep(5)\n",
    "\n",
    "    # Track gain\n",
    "    pag.click(310, 80)\n",
    "    time.sleep(5)\n",
    "\n",
    "    # Exit program\n",
    "    pag.click(1895, 10)\n",
    "    \n",
    "# Reverse map from english to chinese\n",
    "for key in mapper2:\n",
    "    src = os.path.join(os.getcwd(), mapper[key])\n",
    "    dest = os.path.join(os.getcwd(), key)\n",
    "    \n",
    "    os.rename(src, dest)"
   ]
  },
  {
   "cell_type": "code",
   "execution_count": 13,
   "metadata": {
    "ExecuteTime": {
     "end_time": "2020-12-05T13:42:26.497419Z",
     "start_time": "2020-12-05T13:42:10.298430Z"
    }
   },
   "outputs": [
    {
     "name": "stdout",
     "output_type": "stream",
     "text": [
      "39 80\n",
      "211 79\n",
      "307 79\n"
     ]
    }
   ],
   "source": [
    "name = [mapper[key] for key in mapper][0]\n",
    "\n",
    "pag.click(20, 1060)\n",
    "pag.typewrite([char for char in 'mp3gain'] + ['enter'], interval=0.1)\n",
    "\n",
    "time.sleep(1)\n",
    "\n",
    "# Add file\n",
    "addFileButton = pag.locateCenterOnScreen(image='addFiles.png', grayscale=False, confidence=0.8)\n",
    "print(addFileButton.x, addFileButton.y)\n",
    "pag.click(addFileButton.x, addFileButton.y)\n",
    "time.sleep(.5)\n",
    "\n",
    "# Select file\n",
    "pag.typewrite([char for char in name] + ['enter'], interval=0.1)\n",
    "time.sleep(.5)\n",
    "\n",
    "# Analyze track\n",
    "trackAnalysisButton = pag.locateCenterOnScreen(image='trackAnalysis.png', grayscale=False, confidence=0.8)\n",
    "print(trackAnalysisButton.x, trackAnalysisButton.y)\n",
    "pag.click(trackAnalysisButton.x, trackAnalysisButton.y)\n",
    "time.sleep(5)\n",
    "\n",
    "# Track gain\n",
    "trackGainButton = pag.locateCenterOnScreen(image='trackGain.png', grayscale=False, confidence=0.8)\n",
    "print(trackGainButton.x, trackGainButton.y)\n",
    "pag.click(trackGainButton.x, trackGainButton.y)\n",
    "time.sleep(5)\n",
    "\n",
    "# Exit program\n",
    "pag.click(1895, 10)"
   ]
  },
  {
   "cell_type": "code",
   "execution_count": null,
   "metadata": {},
   "outputs": [],
   "source": [
    "pag.position()"
   ]
  }
 ],
 "metadata": {
  "kernelspec": {
   "display_name": "Python 3",
   "language": "python",
   "name": "python3"
  },
  "language_info": {
   "codemirror_mode": {
    "name": "ipython",
    "version": 3
   },
   "file_extension": ".py",
   "mimetype": "text/x-python",
   "name": "python",
   "nbconvert_exporter": "python",
   "pygments_lexer": "ipython3",
   "version": "3.7.6"
  },
  "toc": {
   "base_numbering": 1,
   "nav_menu": {},
   "number_sections": true,
   "sideBar": true,
   "skip_h1_title": false,
   "title_cell": "Table of Contents",
   "title_sidebar": "Contents",
   "toc_cell": false,
   "toc_position": {},
   "toc_section_display": true,
   "toc_window_display": false
  }
 },
 "nbformat": 4,
 "nbformat_minor": 4
}
